{
 "cells": [
  {
   "cell_type": "markdown",
   "metadata": {},
   "source": [
    "# 任务2"
   ]
  },
  {
   "cell_type": "markdown",
   "metadata": {},
   "source": [
    "## 问题分析"
   ]
  },
  {
   "cell_type": "markdown",
   "metadata": {},
   "source": [
    "### 该任务要完成什么？\n",
    "\n",
    "对系统进行仿真，求解两个仿真问题的数值解：\n",
    "\n",
    "1. 求解节点个数 n，使得系统的可靠性最大\n",
    "2. 求解节点个数 n，使得系统的平均工作寿命最大\n",
    "\n",
    "具体而言，需要求解如下优化问题：\n",
    "\n",
    "<center>\n",
    "<figure>\n",
    "<img src=\"q1.png\" style=\"zoom:50%\">\n",
    "<img src=\"q2.png\" style=\"zoom:50%\">\n",
    "</figure>\n",
    "</center>"
   ]
  },
  {
   "cell_type": "markdown",
   "metadata": {},
   "source": [
    "### 物理模型分析\n",
    "\n",
    "- n个独立节点，节点内部物理同构\n",
    "- 节点之间必须保持严格的同步时钟信号\n",
    "- 每一时刻应只有1个主节点，工作于主模式中，其余为从节点，工作在从模式中\n",
    "\n",
    "> 那么，这n个节点用什么方式来保存？最直觉的方式是使用`struct`，其次是使用多个向量来控制。\n",
    "> \n",
    "> 目前暂且不明确用哪一种方式，`struct`和`repeat()`语法如下：\n",
    "> \n",
    "> ```shell\n",
    "> julia> struct Unit\n",
    ">            x::Float64\n",
    ">            y::Float64\n",
    ">        end\n",
    "> \n",
    "> julia> unit = repeat([Unit(1,9)],1,3)\n",
    "> 1×3 Matrix{Unit}:\n",
    ">  Unit(1.0, 9.0)  Unit(1.0, 9.0)  Unit(1.0, 9.0)\n",
    "> ```\n",
    "\n",
    "- 对于任意一个节点，分为主从两类，内部都存在`switchA`和`switchB`，而应对不同的模式，对于正常工作的判别是不同的，这里可以专门写个函数来判断（为简化主代码模块）\n",
    "- 节点模式的重选原则：\n",
    "  \n",
    "  主模式$\\rightarrow$从模式条件：\n",
    "  \n",
    "  - 内部的时钟检测线路发现，总线时钟信号异常（失效或不同于本地时钟源），退出主模式转为从模式。\n",
    "\n",
    "  从模式$\\rightarrow$主模式条件：\n",
    "  \n",
    "  - 在内部的时钟检测线路，检测到总线时钟信号失效（即总线时钟失效或主模式节点退出后），控制电路进入戒备状态\n",
    "  - 戒备状态开始计时，计时长度取决于预设算法设定，与随机值相关。\n",
    "  - 在当前节点的计时期间，如果时钟检测信号检测到有效的总线时钟，退出戒备，继续从模式\n",
    "  - 在当前节点的计时结束后，如果时钟检测信号仍然未检测到有效总线时钟，则转为主动模式\n",
    "\n",
    "  > 所以，可以比较明显的看到，不同节点所带有的不同随机值将会决定系统是否能继续处于正常工作状态。\n",
    "  > \n",
    "  > 除此以外，这里计时可能最好不要使用真实计时，这样对于时间消耗太大了，可能就直接比较不同节点的等待时长，选择等待时长最短的。\n",
    "  > \n",
    "  > 从这里可以看出，节点最好不用`struct`来构建，因为需要对节点的同一属性进行查询，直接`findmin()`可比循环查找要简洁多了。\n",
    "\n",
    "  > 对于节点的切换，可以用以下公式表达：\n",
    "  > $$\n",
    "  > \\{G_{role}^{(m)}\\}=F_{G}(\\{G_{role}^{(m-1)}\\},\\{G_{N}^{(m)}\\},[random])\n",
    "  > $$"
   ]
  },
  {
   "cell_type": "markdown",
   "metadata": {},
   "source": [
    "### 实现分析"
   ]
  },
  {
   "cell_type": "markdown",
   "metadata": {},
   "source": [
    "#### 节点\n",
    "\n",
    "对于每一个节点，应当至少由以下元件部分组成：\n",
    "\n",
    "- 切换器A `switchA`\n",
    "\n",
    "  不可靠元件，存在失效风险。\n",
    "  - 工作状态 `[0,1,2,3]`\n",
    "    - 正常A0\n",
    "    - 故障A1：掷刀无法脱离触点1\n",
    "    - 故障A2：掷刀无法脱离触点2\n",
    "    - 故障A3：掷刀无法接合任意触点\n",
    "  - 掷刀位置 `[1,2,3]`\n",
    "    - 触点1\n",
    "    - 触点2\n",
    "    - 未接合\n",
    "\n",
    "- 切换器B `switchB`\n",
    "\n",
    "  不可靠元件，存在失效风险。\n",
    "  - 工作状态 `[0,1,2]`\n",
    "    - 正常B0\n",
    "    - 故障B1：掷刀无法脱离触点\n",
    "    - 故障B2：掷刀无法接合触点\n",
    "  - 掷刀位置 `[1,2]`\n",
    "    - 接合\n",
    "    - 未接合\n",
    "\n",
    "- 节点性能状态 `[0,1,2,3,4,5]`\n",
    "  \n",
    "  节点性能状态完全由切换器状态决定，参考指导书表格\n",
    "  - gN0: (gPF perfectly functioning)\n",
    "  - gN1: (gSO slave only)\n",
    "  - gN2: (gDM disable/master)\n",
    "  - gN3: (gMO master only) 只能作为主节点，否则就会阻塞总线\n",
    "  - gN4: (gDN disable node)\n",
    "  - gN5: (gFB failed bus) 节点总是阻塞总线\n",
    "\n",
    "![](node-state.png)"
   ]
  },
  {
   "cell_type": "markdown",
   "metadata": {},
   "source": [
    "#### 系统\n",
    "\n",
    "系统的工作状态完全由各节点状态的组合决定，而对于系统的状态类型可以通过不同类型状态节点来定义，需要统计各类节点的数目\n",
    "\n",
    "> 这个相当于是把所有的实验要求都写出来了，只需要无脑写代码实现就好\n",
    "> \n",
    "> 甚至不需要分析什么情况下处于工作状态等等的，关注点在于根据提示实现这个系统\n",
    "\n",
    "这里我就不抄书了，没有分析的必要，写代码的时候照着书抄就可以了"
   ]
  },
  {
   "cell_type": "markdown",
   "metadata": {},
   "source": [
    "### 参数设置\n",
    "\n",
    "切换器元件使用寿命服从负指数分布，仿真粒度默认1h\n",
    "- `switchA`\n",
    "  $$\n",
    "  f_{T_{A}}(\\tau)=\\lambda_{A}e^{-\\lambda_{A}\\cdot \\tau}, ~~~~1/\\lambda_{A}=5.90\\times 10^4 hour\n",
    "  $$\n",
    "  正常工作的概率为：\n",
    "  $$\n",
    "  p_{A0}(t)=e^{-\\lambda_{A}\\cdot t}\n",
    "  $$\n",
    "  发生故障的概率为：\n",
    "  $$\n",
    "  p_{EA}(t)=1-e^{-\\lambda_{A}\\cdot t}\n",
    "  $$\n",
    "    在故障发生的条件下：\n",
    "  $$\n",
    "  \\begin{aligned}\n",
    "    P_{EA1}&=0.20 \\\\\n",
    "    P_{EA2}&=0.15 \\\\\n",
    "    P_{EA3}&=0.65 \\\\\n",
    "  \\end{aligned}\n",
    "  $$\n",
    "\n",
    "- `switchB`\n",
    "  $$\n",
    "  f_{T_{B}}(\\tau)=\\lambda_{B}e^{-\\lambda_{B}\\cdot \\tau}, ~~~~1/\\lambda_{B}=2.20\\times 10^5 hour\n",
    "  $$\n",
    "  正常工作的概率为：\n",
    "  $$\n",
    "  p_{B0}(t)=e^{-\\lambda_{B}\\cdot t}\n",
    "  $$\n",
    "  发生故障的概率为：\n",
    "  $$\n",
    "  p_{EB}(t)=1-e^{-\\lambda_{B}\\cdot t}\n",
    "  $$\n",
    "  \n",
    "  在故障发生的条件下：\n",
    "  $$\n",
    "  \\begin{aligned}\n",
    "    P_{EB1}&=0.45 \\\\\n",
    "    P_{EB2}&=0.55 \\\\\n",
    "  \\end{aligned}\n",
    "  $$\n"
   ]
  },
  {
   "cell_type": "markdown",
   "metadata": {},
   "source": [
    "## 代码实现"
   ]
  },
  {
   "cell_type": "markdown",
   "metadata": {},
   "source": [
    "### 一些参数的代码形式"
   ]
  },
  {
   "cell_type": "markdown",
   "metadata": {},
   "source": [
    "首先是 NUM_SYSTEM 套同型系统的模拟，如果可以使用并行计算，可能有其他写法，这里留一个 TODO。\n",
    "\n",
    "> Todo: 改用并行计算实现\n",
    "\n",
    "否则，就只是连续计算 NUM_SYS 轮，在总代码里面就是套一个 S 的循环\n",
    "\n",
    "```julia\n",
    "NUM_SYSTEM=10_0000\n",
    "LIFE_LIMIT = 20_0000\n",
    "life = zeros(Integer,NUM_SYSTEM) # 我偏好于用列向量\n",
    "for index=1:S\n",
    "    # test certain time step\n",
    "    ...\n",
    "    while !state_system || cnt <= LIFE_LIMIT\n",
    "        ...\n",
    "    end\n",
    "end\n",
    "\n",
    "mean_life = mean(life)\n",
    "```\n"
   ]
  },
  {
   "cell_type": "code",
   "execution_count": null,
   "metadata": {},
   "outputs": [],
   "source": []
  }
 ],
 "metadata": {
  "kernelspec": {
   "display_name": "Julia 1.7.2",
   "language": "julia",
   "name": "julia-1.7"
  },
  "language_info": {
   "name": "julia"
  },
  "orig_nbformat": 4
 },
 "nbformat": 4,
 "nbformat_minor": 2
}
