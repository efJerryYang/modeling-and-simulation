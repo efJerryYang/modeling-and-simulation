{
 "cells": [
  {
   "cell_type": "code",
   "execution_count": 2,
   "metadata": {},
   "outputs": [],
   "source": [
    "using Statistics\n",
    "using Printf"
   ]
  },
  {
   "cell_type": "markdown",
   "metadata": {},
   "source": [
    "### 元件系统"
   ]
  },
  {
   "cell_type": "markdown",
   "metadata": {},
   "source": [
    "#### 时间按固定步长推进"
   ]
  },
  {
   "cell_type": "code",
   "execution_count": 2,
   "metadata": {},
   "outputs": [
    {
     "data": {
      "text/plain": [
       "664.49444"
      ]
     },
     "execution_count": 2,
     "metadata": {},
     "output_type": "execute_result"
    }
   ],
   "source": [
    "Nsample = 50000\n",
    "λ = 1e-3\n",
    "P01 = 1 - exp(-λ)\n",
    "life = zeros(1, Nsample)\n",
    "\n",
    "for k = 1:Nsample\n",
    "    state_system = false\n",
    "    state_comp = zeros(Bool, 1, 3)\n",
    "    while !state_system\n",
    "        if !state_comp[1]\n",
    "            state_comp[1] = (rand(1)[1] <= P01)\n",
    "        end\n",
    "        if !state_comp[2]\n",
    "            state_comp[2] = (rand(1)[1] <= P01)\n",
    "        end\n",
    "        if !state_comp[3]\n",
    "            state_comp[3] = (rand(1)[1] <= P01)\n",
    "        end\n",
    "        state_system = (state_comp[1] || (state_comp[2] && state_comp[3]))  # Notice: logic operator\n",
    "        life[k] = life[k] + 1\n",
    "    end\n",
    "end\n",
    "mean_life = mean(life)"
   ]
  },
  {
   "cell_type": "code",
   "execution_count": 3,
   "metadata": {},
   "outputs": [
    {
     "name": "stdout",
     "output_type": "stream",
     "text": [
      "mean_life:  664.49\n",
      "expectation:  666.67\n"
     ]
    }
   ],
   "source": [
    "@printf(\"mean_life: %7.2f\\n\", mean_life)\n",
    "\n",
    "@printf(\"expectation: %7.2f\\n\", 2 / (3λ))"
   ]
  },
  {
   "cell_type": "markdown",
   "metadata": {},
   "source": [
    "### 蒙特卡罗"
   ]
  },
  {
   "cell_type": "code",
   "execution_count": 4,
   "metadata": {},
   "outputs": [
    {
     "data": {
      "text/plain": [
       "3.1421226043671733"
      ]
     },
     "execution_count": 4,
     "metadata": {},
     "output_type": "execute_result"
    }
   ],
   "source": [
    "k, n =1, 0\n",
    "N = 1000_0000\n",
    "for k=1:N\n",
    "    x = rand(1)[1] * 2\n",
    "    θ = rand(1)[1] * 2pi\n",
    "    y = x - sin(θ)\n",
    "    if y <=0 || y >=2\n",
    "        n += 1\n",
    "    end\n",
    "end\n",
    "esti_pi = N/n "
   ]
  },
  {
   "cell_type": "markdown",
   "metadata": {},
   "source": [
    "## Task 2"
   ]
  },
  {
   "cell_type": "markdown",
   "metadata": {},
   "source": [
    "### 关键公式\n",
    "$$\n",
    "\\{G_{role}^{(m)}\\}=F_{G}(\\{G_{role}^{(m-1)}\\},\\{G_{N}^{(m)}\\},[random])\n",
    "$$\n"
   ]
  },
  {
   "cell_type": "markdown",
   "metadata": {},
   "source": [
    "### 时间按变化步长推进"
   ]
  },
  {
   "cell_type": "code",
   "execution_count": 1,
   "metadata": {},
   "outputs": [
    {
     "data": {
      "text/plain": [
       "TaskLocalRNG()"
      ]
     },
     "execution_count": 1,
     "metadata": {},
     "output_type": "execute_result"
    }
   ],
   "source": [
    "using Random, Distributions\n",
    "Random.seed!(22)"
   ]
  },
  {
   "cell_type": "markdown",
   "metadata": {},
   "source": [
    "The Exponential distribution with scale parameter θ has probability density function\n",
    "$$\n",
    "f(x; \\theta) = \\frac{1}{\\theta} e^{-\\frac{x}{\\theta}}, \\quad x > 0\n",
    "$$"
   ]
  },
  {
   "cell_type": "code",
   "execution_count": 19,
   "metadata": {},
   "outputs": [
    {
     "name": "stdout",
     "output_type": "stream",
     "text": [
      " 661.04"
     ]
    }
   ],
   "source": [
    "Nsample = 50000\n",
    "λ = 1e-3\n",
    "P01 = 1 - exp(-λ)\n",
    "life = zeros(1, Nsample)\n",
    "distr = Exponential(1 / λ)\n",
    "for i = 1:Nsample\n",
    "    state_system = false\n",
    "    state_comp = zeros(Bool, 1, 3)\n",
    "    life_comp = rand(distr, 1, 3)\n",
    "    while !state_system\n",
    "        life[i], j = findmin(life_comp) # minvalue, indexofmin\n",
    "        state_comp[j] = true\n",
    "        life_comp[j] = +Inf\n",
    "        state_system = (state_comp[1] || (state_comp[2] && state_comp[3]))  # Notice: logic operator\n",
    "    end\n",
    "end\n",
    "mean_life = mean(life)\n",
    "@printf(\"%7.2f\", mean_life)"
   ]
  }
 ],
 "metadata": {
  "kernelspec": {
   "display_name": "Julia 1.7.2",
   "language": "julia",
   "name": "julia-1.7"
  },
  "language_info": {
   "file_extension": ".jl",
   "mimetype": "application/julia",
   "name": "julia",
   "version": "1.7.2"
  },
  "orig_nbformat": 4
 },
 "nbformat": 4,
 "nbformat_minor": 2
}
